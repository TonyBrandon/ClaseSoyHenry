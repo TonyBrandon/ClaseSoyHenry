{
 "cells": [
  {
   "attachments": {},
   "cell_type": "markdown",
   "metadata": {},
   "source": [
    "### Argumento de otras funciones"
   ]
  },
  {
   "cell_type": "code",
   "execution_count": 84,
   "metadata": {},
   "outputs": [
    {
     "name": "stdout",
     "output_type": "stream",
     "text": [
      "[100, 200, 300]\n",
      "[51, 52, 53]\n"
     ]
    }
   ],
   "source": [
    "def multiplicar_por_dos(n):\n",
    "    return n * 100\n",
    "\n",
    "def sumar_cincuenta(n):\n",
    "    return n + 50\n",
    "\n",
    "def aplicar_operacion(funcion, numeros):\n",
    "    resultados = []\n",
    "    for numero in numeros:\n",
    "        resultado = funcion(numero)\n",
    "        resultados.append(resultado)\n",
    "    return resultados\n",
    "\n",
    "nums = [1, 2, 3]\n",
    "print(aplicar_operacion(multiplicar_por_dos, nums))\n",
    "\n",
    "print(aplicar_operacion(sumar_cincuenta, nums))\n",
    "\n",
    "\n"
   ]
  },
  {
   "cell_type": "code",
   "execution_count": 89,
   "metadata": {},
   "outputs": [
    {
     "name": "stdout",
     "output_type": "stream",
     "text": [
      "El resultado de la funcion es:\n",
      "[500, 1000, 1500]\n",
      "El resultado de la funcion es:\n",
      "[100, 200, 300]\n"
     ]
    }
   ],
   "source": [
    "def funcion01xxx\n"
   ]
  },
  {
   "cell_type": "code",
   "execution_count": 69,
   "metadata": {},
   "outputs": [
    {
     "data": {
      "text/plain": [
       "5"
      ]
     },
     "execution_count": 69,
     "metadata": {},
     "output_type": "execute_result"
    }
   ],
   "source": [
    "sumar = lambda x, y: x + y\n",
    "\n",
    "sumar(2, 3)\n"
   ]
  }
 ],
 "metadata": {
  "kernelspec": {
   "display_name": "Python 3",
   "language": "python",
   "name": "python3"
  },
  "language_info": {
   "codemirror_mode": {
    "name": "ipython",
    "version": 3
   },
   "file_extension": ".py",
   "mimetype": "text/x-python",
   "name": "python",
   "nbconvert_exporter": "python",
   "pygments_lexer": "ipython3",
   "version": "3.11.3"
  },
  "orig_nbformat": 4
 },
 "nbformat": 4,
 "nbformat_minor": 2
}
