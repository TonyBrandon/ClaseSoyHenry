{
 "cells": [
  {
   "cell_type": "code",
   "execution_count": 2,
   "metadata": {},
   "outputs": [
    {
     "name": "stdout",
     "output_type": "stream",
     "text": [
      "x != 0.9999999999999999\n"
     ]
    }
   ],
   "source": [
    "x = 0.0\n",
    "for i in range(10):\n",
    "    x += 0.1\n",
    "\n",
    "if x == 1.0:\n",
    "    print(f'x = {x}')\n",
    "else:\n",
    "    print(f'x != {x}')"
   ]
  },
  {
   "cell_type": "code",
   "execution_count": 50,
   "metadata": {},
   "outputs": [
    {
     "name": "stdout",
     "output_type": "stream",
     "text": [
      "La raíz cuadrada de 10000 es aprox:  100.0\n",
      "El ultimo valor de iteracion es : 100.00010000219612\n",
      "0.020000000000436557\n",
      "2.0000000000436556e-06\n"
     ]
    }
   ],
   "source": [
    "objetivo = int(input('Escoge un entero: '))\n",
    "\n",
    "\"\"\"Inicializamos respuesta como 0\"\"\"\n",
    "respuesta = 0.000\n",
    "ValorPorcentPlan= 0.005\n",
    "numeroelevado=0.000\n",
    "\n",
    "\n",
    "\n",
    "while numeroelevado <= objetivo:\n",
    "    respuesta = respuesta + 0.0001\n",
    "    numeroelevado= round(respuesta**2,4)\n",
    "    Diferencia= abs(objetivo-numeroelevado)\n",
    "    ValorPorcentReal= Diferencia/objetivo\n",
    "\n",
    "if ValorPorcentReal <= ValorPorcentPlan:\n",
    "\n",
    "    print(f'La raíz cuadrada de {objetivo} es aprox:  {round(respuesta,3)}')\n",
    "\n",
    "else:\n",
    "    print(f'{objetivo} no tiene una raíz cuadrada exacta')\n",
    "print (f\"El ultimo valor de iteracion es : {respuesta}\")\n",
    "print(Diferencia)\n",
    "print(ValorPorcentReal)"
   ]
  },
  {
   "cell_type": "code",
   "execution_count": 64,
   "metadata": {},
   "outputs": [
    {
     "name": "stdout",
     "output_type": "stream",
     "text": [
      "La raiz cuadrada de 1000 es 31.62269999993964\n"
     ]
    }
   ],
   "source": [
    "objetivo = int(input('Escoge un numero: '))\n",
    "\n",
    "epsilon = 0.01      # Definimos un margen de error.\n",
    "paso = epsilon**2   # Los pasos para buscar la raíz sera igual a epsilon^2\n",
    "respuesta = 0       # Inicializamos una respuesta 0\n",
    "\n",
    "\n",
    "while abs(respuesta**2 - objetivo) >= epsilon and respuesta <= objetivo:\n",
    "    respuesta += paso\n",
    "\n",
    "if abs(respuesta**2 - objetivo) >= epsilon:\n",
    "    print(f'No se encontró la raiz cuadrada de {objetivo}')\n",
    "else:\n",
    "    print(f'La raiz cuadrada de {objetivo} es {respuesta}')"
   ]
  },
  {
   "cell_type": "code",
   "execution_count": 65,
   "metadata": {},
   "outputs": [
    {
     "name": "stdout",
     "output_type": "stream",
     "text": [
      "El valor inicial de respuesta es: 500.0\n",
      "El valor actual de respuesta es: 500.0\n",
      "El valor actual de respuesta es: 250.0\n",
      "El valor actual de respuesta es: 125.0\n",
      "El valor actual de respuesta es: 62.5\n",
      "El valor actual de respuesta es: 31.25\n",
      "El valor actual de respuesta es: 46.875\n",
      "El valor actual de respuesta es: 39.0625\n",
      "El valor actual de respuesta es: 35.15625\n",
      "El valor actual de respuesta es: 33.203125\n",
      "El valor actual de respuesta es: 32.2265625\n",
      "El valor actual de respuesta es: 31.73828125\n",
      "El valor actual de respuesta es: 31.494140625\n",
      "El valor actual de respuesta es: 31.6162109375\n",
      "El valor actual de respuesta es: 31.67724609375\n",
      "El valor actual de respuesta es: 31.646728515625\n",
      "El valor actual de respuesta es: 31.6314697265625\n",
      "El valor actual de respuesta es: 31.62384033203125\n",
      "El valor actual de respuesta es: 31.620025634765625\n",
      "El valor actual de respuesta es: 31.621932983398438\n",
      "El valor actual de respuesta es: 31.622886657714844\n",
      "El valor actual de respuesta es: 31.62240982055664\n",
      "El valor actual de respuesta es: 31.622648239135742\n",
      "El valor final de respuesta es: 31.622767448425293\n"
     ]
    }
   ],
   "source": [
    "objetivo = int(input(\"lige un numero: \"))\n",
    "epsilon=0.001\n",
    "bajo=0\n",
    "alto=max(1,objetivo)\n",
    "respuesta = (bajo+alto)/2\n",
    "print(f\"El valor inicial de respuesta es: {respuesta}\")\n",
    "while abs(respuesta**2-objetivo)>=epsilon:\n",
    "    print(f\"El valor actual de respuesta es: {respuesta}\")\n",
    "    if respuesta**2<objetivo:\n",
    "        bajo=respuesta\n",
    "    else:\n",
    "        alto=respuesta\n",
    "    respuesta=(bajo+alto)/2\n",
    "print(f\"El valor final de respuesta es: {respuesta}\")"
   ]
  },
  {
   "cell_type": "code",
   "execution_count": 68,
   "metadata": {},
   "outputs": [
    {
     "name": "stdout",
     "output_type": "stream",
     "text": [
      "La suma total es: 15\n"
     ]
    }
   ],
   "source": [
    "def suma(a,b):\n",
    "        total=a+b\n",
    "        return total\n",
    "print(f\"La suma total es: {suma(5,10)}\")\n"
   ]
  },
  {
   "cell_type": "code",
   "execution_count": 80,
   "metadata": {},
   "outputs": [
    {
     "name": "stdout",
     "output_type": "stream",
     "text": [
      "El resultado es: Tony Rojas\n",
      "El resultado es: Rodriguez Brandon\n"
     ]
    },
    {
     "data": {
      "text/plain": [
       "'Brandon Rodriguez'"
      ]
     },
     "execution_count": 80,
     "metadata": {},
     "output_type": "execute_result"
    }
   ],
   "source": [
    "def nombrecompleto (nombre,apellido,inverso=False):\n",
    "    if inverso:\n",
    "        return f'{apellido} {nombre}'\n",
    "    else:\n",
    "        return f'{nombre} {apellido}'\n",
    "    \n",
    "print(f\"El resultado es: {nombrecompleto('Tony','Rojas')}\")\n",
    "print(f\"El resultado es: {nombrecompleto('Brandon','Rodriguez',inverso=True)}\")\n",
    "nombrecompleto(nombre='Brandon',apellido='Rodriguez',inverso=False)\n",
    "\n"
   ]
  },
  {
   "cell_type": "code",
   "execution_count": 85,
   "metadata": {},
   "outputs": [
    {
     "data": {
      "text/plain": [
       "7"
      ]
     },
     "execution_count": 85,
     "metadata": {},
     "output_type": "execute_result"
    }
   ],
   "source": [
    " #* El uso de las variables y acceso a él a lo largo de nuestro código se llama scope\n",
    "def func1(un_arg, una_func):\n",
    "    def func2(otro_arg):\n",
    "        return otro_arg * 2\n",
    "\n",
    "    valor = func2(un_arg)\n",
    "    return una_func(valor)\n",
    "\n",
    "un_arg = 1\n",
    "\n",
    "def cualquier_func(cualquier_arg):\n",
    "    return cualquier_arg + 5\n",
    "\n",
    "func1(un_arg, cualquier_func)"
   ]
  },
  {
   "cell_type": "code",
   "execution_count": 91,
   "metadata": {},
   "outputs": [
    {
     "name": "stdout",
     "output_type": "stream",
     "text": [
      "El valor es: 10\n"
     ]
    }
   ],
   "source": [
    " #* El uso de las variables y acceso a él a lo largo de nuestro código se llama scope\n",
    "def func1(arg01, una_func):\n",
    "\n",
    "    #! Las siguientes dos lineas solo te dice lo que va hacer la funcion \"func2\"\n",
    "    #! cuando le pases el parametro \"otro_arg\"\n",
    "    #! La funcion devolverá \"otro_arg\" eleveado a la 2\n",
    "    #! \"otro_arg\" puede ser el numero: 3, 5, etc, \n",
    "    #! como tambien puede ser una variable de tipo numérica\n",
    "    #! la cuestion es que lo va a elevar a la 2\n",
    "    def func2(otro_arg):\n",
    "        return otro_arg * 2\n",
    "    \n",
    "    #! En la siguiente linea se realiza la tarnsferencia: otro_arg = arg01\n",
    "    #! q luego se ejecuta la funcion \"func2\" que ya se ha explicado que es lo que hace\n",
    "    #! es como si pusieras: func2(3), func2(5),etc \n",
    "    #! en cada caso se asigna: otro_arg= 3 , otro_arg= 5 , etc\n",
    "    #! para que realize la funcion func2, es decir que retorne ese valor elevado a la 2\n",
    "    #! por lo tanto se está ejecutando la funcion \"func2\" con el nuevo argumento \"arg01\"\n",
    "    #! quedaria: func2(arg01), el cual retorna arg01^2\n",
    "\n",
    "    #!Este calculo arg01^2, es asignado a la variable valor\n",
    "    valor = func2(arg01)\n",
    "\n",
    "    #! Pasa el argumento \"valor\" a la funcion \"una_func\" con la linea : return una_func(valor)\n",
    "    return una_func(valor)\n",
    "\n",
    "#? Definimos una función de ejemplo que simplemente imprime el valor recibido\n",
    "def imprimir_valor(valor02):\n",
    "    print(f\"El valor es: {valor02}\")\n",
    "\n",
    "#? Llamamos a func1 pasando 5 como un_arg y la función imprimir_valor como una_func\n",
    "func1_resultado = func1(5, imprimir_valor)\n"
   ]
  },
  {
   "cell_type": "code",
   "execution_count": 92,
   "metadata": {},
   "outputs": [
    {
     "name": "stdout",
     "output_type": "stream",
     "text": [
      "La funcion 'funcion_a_aplicar' que se aplico al argumento01 de 'funcion01' , tiene como respuesta: 125 \n"
     ]
    }
   ],
   "source": [
    "def funcion01(argumento01, funcion_a_aplicar):\n",
    "    def Subfuncion01(argumento02):\n",
    "        return argumento02**3\n",
    "    valordespuesEjecSubfuncion01= Subfuncion01(argumento01)     \n",
    "    return funcion_a_aplicar(valordespuesEjecSubfuncion01)\n",
    "def funcion02(argumento03):\n",
    "    print(f\"La funcion 'funcion_a_aplicar' que se aplico al argumento01 de 'funcion01' , tiene como respuesta: {argumento03} \") \n",
    "\n",
    "\n",
    "funcion01(5,funcion02)"
   ]
  },
  {
   "cell_type": "code",
   "execution_count": 99,
   "metadata": {},
   "outputs": [
    {
     "data": {
      "text/plain": [
       "3628800"
      ]
     },
     "execution_count": 99,
     "metadata": {},
     "output_type": "execute_result"
    }
   ],
   "source": [
    "def funcionfactorial (numero):\n",
    "    if numero == 1:\n",
    "        return 1\n",
    "    return numero*funcionfactorial(numero-1)\n",
    "\n",
    "Valor=int(input('Escribe el valor de un numero entero postivo: '))\n",
    "funcionfactorial(Valor)\n"
   ]
  },
  {
   "cell_type": "code",
   "execution_count": 108,
   "metadata": {},
   "outputs": [
    {
     "name": "stdout",
     "output_type": "stream",
     "text": [
      "0\n",
      "1\n",
      "2\n",
      "3\n",
      "4\n"
     ]
    }
   ],
   "source": [
    "for i in range(5):\n",
    "    print(i)"
   ]
  },
  {
   "cell_type": "code",
   "execution_count": 110,
   "metadata": {},
   "outputs": [
    {
     "name": "stdout",
     "output_type": "stream",
     "text": [
      "10\n",
      "11\n",
      "12\n",
      "13\n",
      "14\n",
      "15\n"
     ]
    }
   ],
   "source": [
    "for i in range(10, 16):\n",
    "    print(i)\n"
   ]
  },
  {
   "cell_type": "code",
   "execution_count": 120,
   "metadata": {},
   "outputs": [
    {
     "name": "stdout",
     "output_type": "stream",
     "text": [
      "la tabla incial es: \n",
      "0          0          0          0          0          0          0          0          0          \n",
      "0          0          0          0          0          0          0          0          0          \n",
      "0          0          0          0          0          0          0          0          0          \n",
      "0          0          0          0          0          0          0          0          0          \n",
      "0          0          0          0          0          0          0          0          0          \n",
      "0          0          0          0          0          0          0          0          0          \n",
      "\n",
      "0          0          0          0          0          0          0          0          0          \n",
      "0          2          2          2          2          2          2          2          2          \n",
      "0          2          2          5          7          7          7          7          7          \n",
      "0          2          2          5          10          12          12          15          17          \n",
      "0          2          2          5          10          14          16          16          19          \n",
      "0          2          2          5          10          14          16          16          19          \n",
      "\n",
      "La mejor combinación para obtener el máximo beneficio es llevar los siguientes items:\n",
      "[2, 4]\n",
      "Beneficio total: 19\n"
     ]
    }
   ],
   "source": [
    "\"\"\" Escribir el codigo en chat gpt:\n",
    "Realizar un código en Python para resolver el problema de la mochila, el cual consiste en lo siguiente:\n",
    "numero_de_item=[1,2,3,4,5]\n",
    "volumenes= [1,3,4,5,7]\n",
    "beneficios[2,5,10,14,15]\n",
    "Se quiere encontrar la mejor combinación para obtener el máximo beneficio sin superar la capacidad del volumen máximo de la mochila = 8, \n",
    "sabiendo que \"numero_de_item\" representa el código del item a llevar, \"beneficios\" es el beneficio de llevar un determinado item.\n",
    "\"volumenes\" representa el volumen de cada item según el numero_de_item\n",
    "\n",
    " \"\"\"\n",
    "\n",
    "#? La función mochila recibe como parámetros los siguientes datos: numero_de_item, volumenes, beneficios y capacidad. \n",
    "#? Estos datos representan la información de los items y la capacidad de la mochila.\n",
    "#? Estos datos deben ir en la funcion de la siguiente manera:\n",
    "#? mochila([item1,item2,item3,item4,item5], [beneficio1,beneficio2,beneficio3,beneficio4,beneficio5],[capacidad1,capacidad2,capacidad3,capacidad4,capacidad5],capacidad)\n",
    "#? Sino en todo caso pasarle variables que sean listas.\n",
    "\n",
    "def mochila(numero_de_item, volumenes, beneficios, capacidad):\n",
    "    #* Con len se obtiene la longitud de la lista\n",
    "\n",
    "    n = len(numero_de_item)\n",
    "\n",
    "    #? Se crea una tabla 2D llamada tabla con dimensiones (n+1) x (capacidad+1) \n",
    "    #? y se inicializa con ceros. Esta tabla se utilizará para almacenar los valores de los subproblemas\n",
    "        #* La expresión [0] * (capacidad + 1) crea una lista de ceros con longitud igual a capacidad + 1  --> num de colums de la tabla inicial\n",
    "        #* Luego, el bucle for _ in range(n + 1) itera n + 1 veces y crea una nueva lista de ceros en cada iteración --> num fula de la tabl inic\n",
    "    #? y resolver el problema de la mochila utilizando programación dinámica\n",
    "\n",
    "    tabla = [[0] * (capacidad + 1) for _ in range(n + 1)]\n",
    "\n",
    "\n",
    "    #? El siguiente codigo visualiza la tabla inicial\n",
    "        #* end=' ' se utiliza para especificar que después de imprimir el valor del elemento, \n",
    "        #* se debe agregar un espacio en lugar de una nueva línea\n",
    "        #* El bucle va de adentro hacia afuera, 1ero digita elemento a elemento la primera fila, luego cuando termino la fila\n",
    "        #* Salta a la segunda fila, y nuevamente digita elemento x elemento, así sucesivamente\n",
    "        #* hasta completar todas las filas\n",
    "\n",
    "    print(\"la tabla incial es: \")\n",
    "    for fila in tabla:\n",
    "        for elemento in fila:\n",
    "            print(elemento, end='          ')\n",
    "        print()\n",
    "    \n",
    "    print()\n",
    "\n",
    "\n",
    "\n",
    "    \"\"\" \n",
    "    Se utiliza un bucle for anidado para recorrer todos los posibles subproblemas de la mochila. \n",
    "    El primer bucle for itera sobre los items, mientras que el segundo bucle for (el de adentro) \n",
    "    itera sobre las capacidades posibles de la mochila.\n",
    "\n",
    "    \"\"\"\n",
    "\n",
    "    #* \"i\" representa la fila (indice de los elementos) y \"j\" la columna (capacidad actual en cada iteracion, es un numero)\n",
    "    #* range(1, n + 1) se utiliza en el primer bucle for para iterar desde 1 hasta n\n",
    "    #* De manera similar, range(1, capacidad + 1) se utiliza en el segundo bucle for para iterar desde 1 hasta capacidad\n",
    "\n",
    "    for i in range(1, n + 1):\n",
    "        for j in range(1, capacidad + 1):\n",
    "\n",
    "            #* Dentro del bucle, se verifica si el volumen del item actual (volumenes[i-1]) es mayor que la capacidad actual (j). \n",
    "            #* Si es así, significa que el item no puede ser incluido en la mochila actual, \n",
    "            #* por lo que se copia el valor de la celda superior (tabla[i-1][j]) en la tabla actual.\n",
    "            if volumenes[i - 1] > j:\n",
    "                tabla[i][j] = tabla[i - 1][j]\n",
    "\n",
    "\n",
    "             #* Si el volumen del item actual es menor o igual a la capacidad actual, \n",
    "             #* se calcula el máximo valor posible entre dos opciones:\n",
    "                #* No incluir el item actual: se toma el valor de la celda superior (tabla[i-1][j]).\n",
    "                #* Incluir el item actual: se suma el beneficio del item actual (beneficios[i-1]) con el valor correspondiente \n",
    "                #* a la capacidad restante (tabla[i-1][j-volumenes[i-1]]).\n",
    "            #! la lista beneficios y volumenes empiezan desde el indice 0, mientras que la tabla que se esta creando\n",
    "            #! empieza desde el (1,1), debido a que el (0,0) se asumen valores de cero, por ser considerado\n",
    "            #! capacidad = 0 y numero de item =0 (no se ha incluido ningun item), los que no están en las listas orginales.\n",
    "            #! es por ello que cuando quieres referirte al valor actual se le diminuye 1 unidad\n",
    "            else:\n",
    "                tabla[i][j] = max(tabla[i - 1][j], beneficios[i - 1] + tabla[i - 1][j - volumenes[i - 1]])\n",
    "   \n",
    "\n",
    "    for fila in tabla:\n",
    "        for elemento in fila:\n",
    "            print(elemento, end='          ')\n",
    "        print()\n",
    "    \n",
    "    print()\n",
    "\n",
    "\n",
    "    \"\"\"\n",
    "    Después de completar la tabla, se crea una lista vacía llamada items_seleccionados \n",
    "    para almacenar los items seleccionados para la solución óptima.\n",
    "    \"\"\"\n",
    "    items_seleccionados = []\n",
    "\n",
    "\n",
    "    i = n\n",
    "    j = capacidad\n",
    "\n",
    "    \"\"\"\n",
    "    Se utiliza un bucle while para rastrear los items seleccionados en la solución óptima. \n",
    "    Mientras i sea mayor que 0 y j sea mayor que 0, \n",
    "    se verifica si el valor en la celda actual de la tabla es diferente al valor en la celda superior. \n",
    "    \n",
    "    Si es así, significa que el item actual fue incluido en la solución óptima, \n",
    "    por lo que se agrega su código (numero_de_item[i-1]) a la lista items_seleccionados y se resta su volumen a j.\n",
    "    \"\"\"\n",
    "\n",
    "    #! la lista numero_de_item empiezan desde el indice 0, mientras que la tabla que se esta creando\n",
    "    #! empieza desde el (1,1),\n",
    "    #! es por ello que cuando quieres referirte al valor actual se le diminuye 1 unidad\n",
    "    while i > 0 and j > 0:\n",
    "        if tabla[i][j] != tabla[i - 1][j]:\n",
    "            items_seleccionados.append(numero_de_item[i - 1])\n",
    "            j = j - volumenes[i - 1]\n",
    "        \n",
    "        #?Se decrementa i en 1 en cada iteración para pasar a la fila anterior de la tabla\n",
    "        i -= 1\n",
    "\n",
    "    #? Al fin el RETURN de la funcion mochila\n",
    "    \"\"\" \n",
    "    Finalmente, se devuelve el valor máximo obtenido en la tabla (tabla[n][capacidad]) \n",
    "    y la lista de items seleccionados (items_seleccionados[::-1] se utiliza para invertir el orden de los items seleccionados).\n",
    "\n",
    "    Esta funcion devuelve 2 valores\n",
    "    \"\"\"\n",
    "    return tabla[n][capacidad], items_seleccionados[::-1]\n",
    "\n",
    "\n",
    "# Ejemplo de uso\n",
    "numero_de_item = [1, 2, 3, 4, 5]\n",
    "volumenes = [1, 3, 4, 5, 7]\n",
    "beneficios = [2, 5, 10, 14, 15]\n",
    "capacidad_mochila = 8\n",
    "\n",
    "#!Recordar que esta funcion devuelve dos valores por eso el \"max_beneficio, items_seleccionados\"\n",
    "max_beneficio, items_seleccionados = mochila(numero_de_item, volumenes, beneficios, capacidad_mochila)\n",
    "\n",
    "print(\"La mejor combinación para obtener el máximo beneficio es llevar los siguientes items:\")\n",
    "print(items_seleccionados)\n",
    "print(\"Beneficio total:\", max_beneficio)\n",
    "\n"
   ]
  }
 ],
 "metadata": {
  "kernelspec": {
   "display_name": "Python 3",
   "language": "python",
   "name": "python3"
  },
  "language_info": {
   "codemirror_mode": {
    "name": "ipython",
    "version": 3
   },
   "file_extension": ".py",
   "mimetype": "text/x-python",
   "name": "python",
   "nbconvert_exporter": "python",
   "pygments_lexer": "ipython3",
   "version": "3.11.3"
  },
  "orig_nbformat": 4
 },
 "nbformat": 4,
 "nbformat_minor": 2
}
