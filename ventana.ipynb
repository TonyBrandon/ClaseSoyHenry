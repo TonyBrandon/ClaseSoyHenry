{
 "cells": [
  {
   "cell_type": "code",
   "execution_count": 2,
   "metadata": {},
   "outputs": [
    {
     "name": "stdout",
     "output_type": "stream",
     "text": [
      "tu nombre es tony\n"
     ]
    }
   ],
   "source": [
    "nombre = input('cual es tu nombre?')\n",
    "print(f'tu nombre es {nombre}')"
   ]
  },
  {
   "cell_type": "code",
   "execution_count": 4,
   "metadata": {},
   "outputs": [
    {
     "name": "stdout",
     "output_type": "stream",
     "text": [
      "El segundo número es mayor que el primero.\n"
     ]
    }
   ],
   "source": [
    "num_1 = int(input('Escoge un entero: '))    # Preguntamos por un primer número.\n",
    "num_2 = int(input('Escoge otro entero: '))  # Luego preguntamos por un segundo número.\n",
    "\n",
    "if num_1 > num_2:       # Si el primer número es mayor que el segundo.\n",
    "    print('El primer número es mayor que el segundo.')  # Imprimimos esta expresión.\n",
    "elif num_1 < num_2:     # En caso de que el segundo sea mayor.\n",
    "    print('El segundo número es mayor que el primero.') # Imprimiremos esta expresión.\n",
    "else:   # En caso de que no cumpla ninguna condición.\n",
    "    print('Los 2 números son iguales.')"
   ]
  },
  {
   "cell_type": "code",
   "execution_count": 17,
   "metadata": {},
   "outputs": [
    {
     "name": "stdout",
     "output_type": "stream",
     "text": [
      "4 es menor que 5\n"
     ]
    }
   ],
   "source": [
    "if 4 > 5:\n",
    "    ...\n",
    "elif 4 < 5:\n",
    "    print('4 es menor que 5')\n",
    "else:\n",
    "    ..."
   ]
  },
  {
   "attachments": {},
   "cell_type": "markdown",
   "metadata": {},
   "source": [
    "# Titulo01\n",
    "## Subtitulo\n",
    "### Titulo nivel 3\n",
    "* Link\n"
   ]
  },
  {
   "cell_type": "code",
   "execution_count": 1,
   "metadata": {},
   "outputs": [
    {
     "data": {
      "text/plain": [
       "<Axes: >"
      ]
     },
     "execution_count": 1,
     "metadata": {},
     "output_type": "execute_result"
    },
    {
     "data": {
      "image/png": "[encoded data removed]",
      "text/plain": [
       "<Figure size 640x480 with 1 Axes>"
      ]
     },
     "metadata": {},
     "output_type": "display_data"
    }
   ],
   "source": [
    "import pandas as pd\n",
    "datos = pd.DataFrame({\"manzanas\": [3, 2], \"peras\": [4, 1]}, index=[\"juan\", \"pablo\"])\n",
    "datos\n",
    "datos.plot.bar()\n"
   ]
  },
  {
   "cell_type": "code",
   "execution_count": 15,
   "metadata": {},
   "outputs": [
    {
     "data": {
      "text/plain": [
       "6"
      ]
     },
     "execution_count": 15,
     "metadata": {},
     "output_type": "execute_result"
    }
   ],
   "source": [
    "from FuncionesGuardadas import FuncionSuma\n",
    "FuncionSuma.suma([2,3,1])"
   ]
  },
  {
   "cell_type": "code",
   "execution_count": 20,
   "metadata": {},
   "outputs": [
    {
     "name": "stdout",
     "output_type": "stream",
     "text": [
      "el contador esta en 0\n",
      "el contador esta en 1\n",
      "el contador esta en 2\n",
      "el contador esta en 3\n",
      "el contador esta en 4\n",
      "el contador esta en 5\n",
      "el contador esta en 6\n"
     ]
    }
   ],
   "source": [
    "contador=0\n",
    "while(contador<=10):\n",
    "    print(f\"el contador esta en {contador}\")\n",
    "    contador+=1\n",
    "    if contador >6:\n",
    "        break\n"
   ]
  },
  {
   "cell_type": "code",
   "execution_count": 6,
   "metadata": {},
   "outputs": [
    {
     "data": {
      "text/plain": [
       "{'Peru': 100, 'Argentina': 200, 'Colombia': 160}"
      ]
     },
     "execution_count": 6,
     "metadata": {},
     "output_type": "execute_result"
    }
   ],
   "source": [
    "paises={\"Peru\":100,\"Argentina\":200,\n",
    "        \"Colombia\":160}\n",
    "paises"
   ]
  },
  {
   "cell_type": "code",
   "execution_count": 1,
   "metadata": {},
   "outputs": [
    {
     "ename": "ImportError",
     "evalue": "html5lib not found, please install it",
     "output_type": "error",
     "traceback": [
      "\u001b[1;31m---------------------------------------------------------------------------\u001b[0m",
      "\u001b[1;31mImportError\u001b[0m                               Traceback (most recent call last)",
      "Cell \u001b[1;32mIn[1], line 3\u001b[0m\n\u001b[0;32m      1\u001b[0m \u001b[39mimport\u001b[39;00m \u001b[39mpandas\u001b[39;00m \u001b[39mas\u001b[39;00m \u001b[39mpd\u001b[39;00m\n\u001b[1;32m----> 3\u001b[0m tablas \u001b[39m=\u001b[39m pd\u001b[39m.\u001b[39;49mread_html(\u001b[39m'\u001b[39;49m\u001b[39mhttps://es.wikipedia.org/wiki/América_Latina\u001b[39;49m\u001b[39m'\u001b[39;49m)\n\u001b[0;32m      4\u001b[0m tabla_corregida \u001b[39m=\u001b[39m tablas[\u001b[39m1\u001b[39m]\n",
      "File \u001b[1;32mc:\\Users\\BRANDON TONY ROJAS\\AppData\\Local\\Programs\\Python\\Python311\\Lib\\site-packages\\pandas\\io\\html.py:1212\u001b[0m, in \u001b[0;36mread_html\u001b[1;34m(io, match, flavor, header, index_col, skiprows, attrs, parse_dates, thousands, encoding, decimal, converters, na_values, keep_default_na, displayed_only, extract_links, dtype_backend)\u001b[0m\n\u001b[0;32m   1208\u001b[0m check_dtype_backend(dtype_backend)\n\u001b[0;32m   1210\u001b[0m io \u001b[39m=\u001b[39m stringify_path(io)\n\u001b[1;32m-> 1212\u001b[0m \u001b[39mreturn\u001b[39;00m _parse(\n\u001b[0;32m   1213\u001b[0m     flavor\u001b[39m=\u001b[39;49mflavor,\n\u001b[0;32m   1214\u001b[0m     io\u001b[39m=\u001b[39;49mio,\n\u001b[0;32m   1215\u001b[0m     match\u001b[39m=\u001b[39;49mmatch,\n\u001b[0;32m   1216\u001b[0m     header\u001b[39m=\u001b[39;49mheader,\n\u001b[0;32m   1217\u001b[0m     index_col\u001b[39m=\u001b[39;49mindex_col,\n\u001b[0;32m   1218\u001b[0m     skiprows\u001b[39m=\u001b[39;49mskiprows,\n\u001b[0;32m   1219\u001b[0m     parse_dates\u001b[39m=\u001b[39;49mparse_dates,\n\u001b[0;32m   1220\u001b[0m     thousands\u001b[39m=\u001b[39;49mthousands,\n\u001b[0;32m   1221\u001b[0m     attrs\u001b[39m=\u001b[39;49mattrs,\n\u001b[0;32m   1222\u001b[0m     encoding\u001b[39m=\u001b[39;49mencoding,\n\u001b[0;32m   1223\u001b[0m     decimal\u001b[39m=\u001b[39;49mdecimal,\n\u001b[0;32m   1224\u001b[0m     converters\u001b[39m=\u001b[39;49mconverters,\n\u001b[0;32m   1225\u001b[0m     na_values\u001b[39m=\u001b[39;49mna_values,\n\u001b[0;32m   1226\u001b[0m     keep_default_na\u001b[39m=\u001b[39;49mkeep_default_na,\n\u001b[0;32m   1227\u001b[0m     displayed_only\u001b[39m=\u001b[39;49mdisplayed_only,\n\u001b[0;32m   1228\u001b[0m     extract_links\u001b[39m=\u001b[39;49mextract_links,\n\u001b[0;32m   1229\u001b[0m     dtype_backend\u001b[39m=\u001b[39;49mdtype_backend,\n\u001b[0;32m   1230\u001b[0m )\n",
      "File \u001b[1;32mc:\\Users\\BRANDON TONY ROJAS\\AppData\\Local\\Programs\\Python\\Python311\\Lib\\site-packages\\pandas\\io\\html.py:977\u001b[0m, in \u001b[0;36m_parse\u001b[1;34m(flavor, io, match, attrs, encoding, displayed_only, extract_links, **kwargs)\u001b[0m\n\u001b[0;32m    975\u001b[0m retained \u001b[39m=\u001b[39m \u001b[39mNone\u001b[39;00m\n\u001b[0;32m    976\u001b[0m \u001b[39mfor\u001b[39;00m flav \u001b[39min\u001b[39;00m flavor:\n\u001b[1;32m--> 977\u001b[0m     parser \u001b[39m=\u001b[39m _parser_dispatch(flav)\n\u001b[0;32m    978\u001b[0m     p \u001b[39m=\u001b[39m parser(io, compiled_match, attrs, encoding, displayed_only, extract_links)\n\u001b[0;32m    980\u001b[0m     \u001b[39mtry\u001b[39;00m:\n",
      "File \u001b[1;32mc:\\Users\\BRANDON TONY ROJAS\\AppData\\Local\\Programs\\Python\\Python311\\Lib\\site-packages\\pandas\\io\\html.py:926\u001b[0m, in \u001b[0;36m_parser_dispatch\u001b[1;34m(flavor)\u001b[0m\n\u001b[0;32m    924\u001b[0m \u001b[39mif\u001b[39;00m flavor \u001b[39min\u001b[39;00m (\u001b[39m\"\u001b[39m\u001b[39mbs4\u001b[39m\u001b[39m\"\u001b[39m, \u001b[39m\"\u001b[39m\u001b[39mhtml5lib\u001b[39m\u001b[39m\"\u001b[39m):\n\u001b[0;32m    925\u001b[0m     \u001b[39mif\u001b[39;00m \u001b[39mnot\u001b[39;00m _HAS_HTML5LIB:\n\u001b[1;32m--> 926\u001b[0m         \u001b[39mraise\u001b[39;00m \u001b[39mImportError\u001b[39;00m(\u001b[39m\"\u001b[39m\u001b[39mhtml5lib not found, please install it\u001b[39m\u001b[39m\"\u001b[39m)\n\u001b[0;32m    927\u001b[0m     \u001b[39mif\u001b[39;00m \u001b[39mnot\u001b[39;00m _HAS_BS4:\n\u001b[0;32m    928\u001b[0m         \u001b[39mraise\u001b[39;00m \u001b[39mImportError\u001b[39;00m(\u001b[39m\"\u001b[39m\u001b[39mBeautifulSoup4 (bs4) not found, please install it\u001b[39m\u001b[39m\"\u001b[39m)\n",
      "\u001b[1;31mImportError\u001b[0m: html5lib not found, please install it"
     ]
    }
   ],
   "source": [
    "import pandas as pd\n",
    "\n",
    "tablas = pd.read_html('https://es.wikipedia.org/wiki/América_Latina')\n",
    "tabla_corregida = tablas[1]\n"
   ]
  },
  {
   "cell_type": "code",
   "execution_count": 14,
   "metadata": {},
   "outputs": [
    {
     "data": {
      "text/html": [
       "<div>\n",
       "<style scoped>\n",
       "    .dataframe tbody tr th:only-of-type {\n",
       "        vertical-align: middle;\n",
       "    }\n",
       "\n",
       "    .dataframe tbody tr th {\n",
       "        vertical-align: top;\n",
       "    }\n",
       "\n",
       "    .dataframe thead th {\n",
       "        text-align: right;\n",
       "    }\n",
       "</style>\n",
       "<table border=\"1\" class=\"dataframe\">\n",
       "  <thead>\n",
       "    <tr style=\"text-align: right;\">\n",
       "      <th></th>\n",
       "      <th>Selección</th>\n",
       "      <th>Pts</th>\n",
       "      <th>PJ</th>\n",
       "      <th>PG</th>\n",
       "      <th>PE</th>\n",
       "      <th>PP</th>\n",
       "      <th>GF</th>\n",
       "      <th>GC</th>\n",
       "      <th>Dif</th>\n",
       "    </tr>\n",
       "  </thead>\n",
       "  <tbody>\n",
       "    <tr>\n",
       "      <th>0</th>\n",
       "      <td>Países Bajos</td>\n",
       "      <td>7</td>\n",
       "      <td>3</td>\n",
       "      <td>2</td>\n",
       "      <td>1</td>\n",
       "      <td>0</td>\n",
       "      <td>5</td>\n",
       "      <td>1</td>\n",
       "      <td>4</td>\n",
       "    </tr>\n",
       "    <tr>\n",
       "      <th>1</th>\n",
       "      <td>Senegal</td>\n",
       "      <td>6</td>\n",
       "      <td>3</td>\n",
       "      <td>2</td>\n",
       "      <td>0</td>\n",
       "      <td>1</td>\n",
       "      <td>5</td>\n",
       "      <td>4</td>\n",
       "      <td>1</td>\n",
       "    </tr>\n",
       "    <tr>\n",
       "      <th>2</th>\n",
       "      <td>Ecuador</td>\n",
       "      <td>4</td>\n",
       "      <td>3</td>\n",
       "      <td>1</td>\n",
       "      <td>1</td>\n",
       "      <td>1</td>\n",
       "      <td>4</td>\n",
       "      <td>3</td>\n",
       "      <td>1</td>\n",
       "    </tr>\n",
       "    <tr>\n",
       "      <th>3</th>\n",
       "      <td>Catar</td>\n",
       "      <td>0</td>\n",
       "      <td>3</td>\n",
       "      <td>0</td>\n",
       "      <td>0</td>\n",
       "      <td>3</td>\n",
       "      <td>1</td>\n",
       "      <td>7</td>\n",
       "      <td>–6</td>\n",
       "    </tr>\n",
       "  </tbody>\n",
       "</table>\n",
       "</div>"
      ],
      "text/plain": [
       "      Selección  Pts  PJ  PG  PE  PP  GF  GC Dif\n",
       "0  Países Bajos    7   3   2   1   0   5   1   4\n",
       "1       Senegal    6   3   2   0   1   5   4   1\n",
       "2       Ecuador    4   3   1   1   1   4   3   1\n",
       "3         Catar    0   3   0   0   3   1   7  –6"
      ]
     },
     "metadata": {},
     "output_type": "display_data"
    }
   ],
   "source": [
    "import pandas as pd\n",
    "from urllib.parse import quote\n",
    "from IPython.display import display\n",
    "\n",
    "url = 'https://es.wikipedia.org/wiki/Copa_Mundial_de_Fútbol_de_2022'\n",
    "url_encoded = quote(url, safe=':/')\n",
    "\n",
    "tablas = pd.read_html(url_encoded)\n",
    "tabla_corregida = tablas[9]\n",
    "\n",
    "display(tabla_corregida)\n",
    "\n",
    "\n",
    "\n",
    "\n"
   ]
  },
  {
   "cell_type": "code",
   "execution_count": 13,
   "metadata": {},
   "outputs": [
    {
     "data": {
      "image/png": "[encoded data removed]",
      "text/plain": [
       "<Figure size 1000x200 with 1 Axes>"
      ]
     },
     "metadata": {},
     "output_type": "display_data"
    }
   ],
   "source": [
    "import pandas as pd\n",
    "from urllib.parse import quote\n",
    "import matplotlib.pyplot as plt\n",
    "\n",
    "url = 'https://es.wikipedia.org/wiki/Copa_Mundial_de_Fútbol_de_2022'\n",
    "url_encoded = quote(url, safe=':/')\n",
    "\n",
    "tablas = pd.read_html(url_encoded)\n",
    "tabla_corregida = tablas[9]\n",
    "\n",
    "# Configurar tamaño de la figura\n",
    "fig, ax = plt.subplots(figsize=(10, 2))\n",
    "\n",
    "# Mostrar la tabla en la figura\n",
    "ax.axis('off')\n",
    "tabla = ax.table(cellText=tabla_corregida.values, colLabels=tabla_corregida.columns, loc='center')\n",
    "\n",
    "# Ajustar tamaño de las letras y color del texto\n",
    "tabla.auto_set_font_size(False)\n",
    "tabla.set_fontsize(9)\n",
    "# Mostrar la figura en una ventana aparte\n",
    "plt.show()\n"
   ]
  },
  {
   "cell_type": "code",
   "execution_count": 10,
   "metadata": {},
   "outputs": [
    {
     "data": {
      "image/png": "[encoded data removed]",
      "text/plain": [
       "<Figure size 1000x200 with 1 Axes>"
      ]
     },
     "metadata": {},
     "output_type": "display_data"
    }
   ],
   "source": [
    "import pandas as pd\n",
    "from urllib.parse import quote\n",
    "import matplotlib.pyplot as plt\n",
    "\n",
    "url = 'https://es.wikipedia.org/wiki/Copa_Mundial_de_Fútbol_de_2022'\n",
    "url_encoded = quote(url, safe=':/')\n",
    "\n",
    "tablas = pd.read_html(url_encoded)\n",
    "tabla_corregida = tablas[9]\n",
    "\n",
    "# Configurar tamaño de la figura\n",
    "fig, ax = plt.subplots(figsize=(10, 2))\n",
    "\n",
    "# Mostrar la tabla en la figura\n",
    "ax.axis('off')\n",
    "tabla = ax.table(cellText=tabla_corregida.values, colLabels=tabla_corregida.columns, loc='center')\n",
    "\n",
    "# Ajustar tamaño de las letras y color del texto\n",
    "for cell in tabla.get_celld().values():\n",
    "    cell.set_text_props(weight='normal', fontsize=12, color='black')\n",
    "\n",
    "# Mostrar la figura en una ventana aparte\n",
    "plt.show()\n"
   ]
  },
  {
   "cell_type": "code",
   "execution_count": 19,
   "metadata": {},
   "outputs": [
    {
     "name": "stdout",
     "output_type": "stream",
     "text": [
      "0\n",
      "2\n",
      "4\n",
      "6\n",
      "8\n"
     ]
    }
   ],
   "source": [
    "for i in range (0,10,2):\n",
    "    print(i)"
   ]
  },
  {
   "cell_type": "code",
   "execution_count": 21,
   "metadata": {},
   "outputs": [
    {
     "name": "stdout",
     "output_type": "stream",
     "text": [
      "manzana\n",
      "mango\n",
      "naranja\n"
     ]
    }
   ],
   "source": [
    "frutas=['manzana','mango','naranja']\n",
    "for fruta in frutas:\n",
    "    print(fruta)"
   ]
  },
  {
   "cell_type": "code",
   "execution_count": 23,
   "metadata": {},
   "outputs": [
    {
     "name": "stdout",
     "output_type": "stream",
     "text": [
      "H\n",
      "o\n",
      "l\n",
      "a\n"
     ]
    }
   ],
   "source": [
    " #?Ejemplo de Iterador  cadena\n",
    "cadena=\"Hola\"\n",
    "iterador = iter(cadena)\n",
    "try:\n",
    "    while True:\n",
    "        elemento=next(iterador)\n",
    "        print(elemento)\n",
    "except StopIteration:\n",
    "    pass"
   ]
  },
  {
   "cell_type": "code",
   "execution_count": 24,
   "metadata": {},
   "outputs": [
    {
     "name": "stdout",
     "output_type": "stream",
     "text": [
      "Lista Original: \n",
      "['a', 'b', 'c']\n",
      "Lista NUEVA: \n",
      "['a', 'b', 'c', 'd']\n"
     ]
    }
   ],
   "source": [
    " #? Modificar una LISTA si se puede, una TUPLA no se puede\n",
    "lista=['a','b','c']\n",
    "nueva_lista=list(lista)\n",
    "nueva_lista.append('d')\n",
    "print(\"Lista Original: \")\n",
    "print(lista)\n",
    "print(\"Lista NUEVA: \")\n",
    "print(nueva_lista)"
   ]
  },
  {
   "cell_type": "code",
   "execution_count": 25,
   "metadata": {},
   "outputs": [
    {
     "name": "stdout",
     "output_type": "stream",
     "text": [
      "Lista Original: \n",
      "('a', 'b', 'c')\n",
      "Lista NUEVA: \n",
      "['a', 'b', 'c', 'd']\n"
     ]
    }
   ],
   "source": [
    "lista=('a','b','c')\n",
    "nueva_lista=list(lista)\n",
    "nueva_lista.append('d')\n",
    "print(\"Lista Original: \")\n",
    "print(lista)\n",
    "print(\"Lista NUEVA: \")\n",
    "print(nueva_lista)"
   ]
  },
  {
   "cell_type": "code",
   "execution_count": 38,
   "metadata": {},
   "outputs": [
    {
     "data": {
      "text/plain": [
       "'mango'"
      ]
     },
     "execution_count": 38,
     "metadata": {},
     "output_type": "execute_result"
    }
   ],
   "source": [
    "frutas = ['manzana', 'pera', 'mango']\n",
    "iterador = iter(frutas)\n",
    "next(iterador)\n",
    "next(iterador)\n",
    "next(iterador)"
   ]
  },
  {
   "cell_type": "code",
   "execution_count": 67,
   "metadata": {},
   "outputs": [
    {
     "name": "stdout",
     "output_type": "stream",
     "text": [
      "{'mexico': 10, 'colombia': 15, 'puerto_rico': 4}\n",
      "mexico\n",
      "{'mexico': 10, 'colombia': 15, 'puerto_rico': 4}\n",
      "colombia\n",
      "{'mexico': 10, 'colombia': 15, 'puerto_rico': 4}\n",
      "puerto_rico\n",
      "\n",
      "\n",
      "dict_keys(['mexico', 'colombia', 'puerto_rico'])\n",
      "mexico\n",
      "dict_keys(['mexico', 'colombia', 'puerto_rico'])\n",
      "colombia\n",
      "dict_keys(['mexico', 'colombia', 'puerto_rico'])\n",
      "puerto_rico\n",
      "\n",
      "\n",
      "dict_values([10, 15, 4])\n",
      "10\n",
      "dict_values([10, 15, 4])\n",
      "15\n",
      "dict_values([10, 15, 4])\n",
      "4\n",
      "\n",
      "\n",
      "dict_items([('mexico', 10), ('colombia', 15), ('puerto_rico', 4)])\n",
      "10\n",
      "mexico\n",
      "dict_items([('mexico', 10), ('colombia', 15), ('puerto_rico', 4)])\n",
      "15\n",
      "colombia\n",
      "dict_items([('mexico', 10), ('colombia', 15), ('puerto_rico', 4)])\n",
      "4\n",
      "puerto_rico\n"
     ]
    }
   ],
   "source": [
    "estudiantes = {\n",
    "    'mexico': 10,\n",
    "    'colombia': 15,\n",
    "    'puerto_rico': 4,\n",
    "}\n",
    "for X in estudiantes:\n",
    "    print(estudiantes)\n",
    "    print(X)\n",
    "print (\"\\n\")\n",
    "for pais in estudiantes.keys():\n",
    "    print(estudiantes.keys())\n",
    "    print(pais)\n",
    "print(\"\\n\")\n",
    "for num in estudiantes.values():\n",
    "    print(estudiantes.values())\n",
    "    print(num)\n",
    "print(\"\\n\")\n",
    "for pais, numero_de_estudiantes in estudiantes.items():\n",
    "    print(estudiantes.items())\n",
    "    print(pais)\n",
    "    print(numero_de_estudiantes)\n"
   ]
  }
 ],
 "metadata": {
  "kernelspec": {
   "display_name": "Python 3",
   "language": "python",
   "name": "python3"
  },
  "language_info": {
   "codemirror_mode": {
    "name": "ipython",
    "version": 3
   },
   "file_extension": ".py",
   "mimetype": "text/x-python",
   "name": "python",
   "nbconvert_exporter": "python",
   "pygments_lexer": "ipython3",
   "version": "3.11.3"
  },
  "orig_nbformat": 4
 },
 "nbformat": 4,
 "nbformat_minor": 2
}
