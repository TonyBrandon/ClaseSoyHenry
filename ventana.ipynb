{
 "cells": [
  {
   "cell_type": "code",
   "execution_count": 2,
   "metadata": {},
   "outputs": [
    {
     "name": "stdout",
     "output_type": "stream",
     "text": [
      "tu nombre es tony\n"
     ]
    }
   ],
   "source": [
    "nombre = input('cual es tu nombre?')\n",
    "print(f'tu nombre es {nombre}')"
   ]
  },
  {
   "cell_type": "code",
   "execution_count": 4,
   "metadata": {},
   "outputs": [
    {
     "name": "stdout",
     "output_type": "stream",
     "text": [
      "El segundo número es mayor que el primero.\n"
     ]
    }
   ],
   "source": [
    "num_1 = int(input('Escoge un entero: '))    # Preguntamos por un primer número.\n",
    "num_2 = int(input('Escoge otro entero: '))  # Luego preguntamos por un segundo número.\n",
    "\n",
    "if num_1 > num_2:       # Si el primer número es mayor que el segundo.\n",
    "    print('El primer número es mayor que el segundo.')  # Imprimimos esta expresión.\n",
    "elif num_1 < num_2:     # En caso de que el segundo sea mayor.\n",
    "    print('El segundo número es mayor que el primero.') # Imprimiremos esta expresión.\n",
    "else:   # En caso de que no cumpla ninguna condición.\n",
    "    print('Los 2 números son iguales.')"
   ]
  },
  {
   "cell_type": "code",
   "execution_count": 17,
   "metadata": {},
   "outputs": [
    {
     "name": "stdout",
     "output_type": "stream",
     "text": [
      "4 es menor que 5\n"
     ]
    }
   ],
   "source": [
    "if 4 > 5:\n",
    "    ...\n",
    "elif 4 < 5:\n",
    "    print('4 es menor que 5')\n",
    "else:\n",
    "    ..."
   ]
  },
  {
   "attachments": {},
   "cell_type": "markdown",
   "metadata": {},
   "source": [
    "# Titulo01\n",
    "## Subtitulo\n",
    "### Titulo nivel 3\n",
    "* Link\n"
   ]
  },
  {
   "cell_type": "code",
   "execution_count": 13,
   "metadata": {},
   "outputs": [
    {
     "data": {
      "text/plain": [
       "<Axes: >"
      ]
     },
     "execution_count": 13,
     "metadata": {},
     "output_type": "execute_result"
    },
    {
     "data": {
      "image/png": "[encoded data removed]",
      "text/plain": [
       "<Figure size 640x480 with 1 Axes>"
      ]
     },
     "metadata": {},
     "output_type": "display_data"
    }
   ],
   "source": [
    "import pandas as pd\n",
    "datos = pd.DataFrame({\"manzanas\": [3, 2], \"peras\": [4, 1]}, index=[\"juan\", \"pablo\"])\n",
    "datos\n",
    "datos.plot.bar()\n"
   ]
  },
  {
   "cell_type": "code",
   "execution_count": 15,
   "metadata": {},
   "outputs": [
    {
     "data": {
      "text/plain": [
       "6"
      ]
     },
     "execution_count": 15,
     "metadata": {},
     "output_type": "execute_result"
    }
   ],
   "source": [
    "from FuncionesGuardadas import FuncionSuma\n",
    "FuncionSuma.suma([2,3,1])"
   ]
  },
  {
   "cell_type": "code",
   "execution_count": 20,
   "metadata": {},
   "outputs": [
    {
     "name": "stdout",
     "output_type": "stream",
     "text": [
      "el contador esta en 0\n",
      "el contador esta en 1\n",
      "el contador esta en 2\n",
      "el contador esta en 3\n",
      "el contador esta en 4\n",
      "el contador esta en 5\n",
      "el contador esta en 6\n"
     ]
    }
   ],
   "source": [
    "contador=0\n",
    "while(contador<=10):\n",
    "    print(f\"el contador esta en {contador}\")\n",
    "    contador+=1\n",
    "    if contador >6:\n",
    "        break\n"
   ]
  }
 ],
 "metadata": {
  "kernelspec": {
   "display_name": "Python 3",
   "language": "python",
   "name": "python3"
  },
  "language_info": {
   "codemirror_mode": {
    "name": "ipython",
    "version": 3
   },
   "file_extension": ".py",
   "mimetype": "text/x-python",
   "name": "python",
   "nbconvert_exporter": "python",
   "pygments_lexer": "ipython3",
   "version": "3.11.3"
  },
  "orig_nbformat": 4
 },
 "nbformat": 4,
 "nbformat_minor": 2
}
